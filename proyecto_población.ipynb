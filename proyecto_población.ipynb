{
 "cells": [
  {
   "cell_type": "markdown",
   "metadata": {},
   "source": [
    "# PROYECTO POBLACIÓN RESIDENTE EN BARCELONA \n",
    "\n",
    "\"dataset\" de la población residente en Barcelona por sexo, barrio, continente de nacimiento y por nacionalidad actualizado a 1 de enero de 2023. \n",
    "https://opendata-ajuntament.barcelona.cat/data/es/datasetpad_mdbas_nacionalitat-pais_nacionalitat-continent_sexe\n",
    "### este dataset lo llamaré \"df1\"\n",
    "CSV: 2023_pad_mdbas_nacionalitat-pais_nacionalitat-continent_sexe.csv\n",
    "\n",
    "\n",
    "\"dataset\" con códigos de valores que representan nacionalidades, tipos de género, lugar de nacimiento, código de distrito de residencia, código de distrito de residencia referidos al \"dataset\" \"df1\".\n",
    "https://opendata-ajuntament.barcelona.cat/data/ca/dataset/pad-dimensions\n",
    "### este dataset lo llamaré \"df2\"\n",
    "CSV: pad_dimensions.csv\n",
    "\n",
    "\n",
    "\n",
    "\n",
    "\n"
   ]
  },
  {
   "cell_type": "code",
   "execution_count": 11,
   "metadata": {},
   "outputs": [
    {
     "name": "stdout",
     "output_type": "stream",
     "text": [
      "PRIMERAS FILAS DEL DATAFRAME \"df1\":\n",
      "  Data_Referencia  Codi_Districte Nom_Districte  Codi_Barri Nom_Barri  AEB  \\\n",
      "0      2023-01-01               1  Ciutat Vella           1  el Raval    1   \n",
      "1      2023-01-01               1  Ciutat Vella           1  el Raval    1   \n",
      "2      2023-01-01               1  Ciutat Vella           1  el Raval    1   \n",
      "3      2023-01-01               1  Ciutat Vella           1  el Raval    1   \n",
      "4      2023-01-01               1  Ciutat Vella           1  el Raval    1   \n",
      "\n",
      "   Seccio_Censal Valor  NACIONALITAT_PAIS  NACIONALITAT_CONTINENT  SEXE  \n",
      "0           1001    ..                 15                       4     1  \n",
      "1           1001    ..                 15                       4     2  \n",
      "2           1001    ..                 22                       4     2  \n",
      "3           1001   315                 58                       4     1  \n",
      "4           1001   357                 58                       4     2  \n",
      "PRIMERAS FILAS DEL DATAFRAME \"df2\":\n",
      "   Codi_Dimensio Desc_Dimensio  Codi_Valor Desc_Valor_CA Desc_Valor_ES  \\\n",
      "0              1          SEXE           1          Dona         Mujer   \n",
      "1              1          SEXE           2          Home        Hombre   \n",
      "2              2        EDAT_1           0        0 anys        0 años   \n",
      "3              2        EDAT_1           1        1 anys        1 años   \n",
      "4              2        EDAT_1           2        2 anys        2 años   \n",
      "\n",
      "  Desc_Valor_EN  \n",
      "0        Female  \n",
      "1          Male  \n",
      "2       0 years  \n",
      "3       1 years  \n",
      "4       2 years  \n"
     ]
    }
   ],
   "source": [
    "import pandas as pd\n",
    "# Cargar CSV y guardarlo en la variable \"df1\"\n",
    "df1 = pd.read_csv('2023_pad_mdbas_nacionalitat-pais_nacionalitat-continent_sexe.csv')\n",
    "\n",
    "# Cargar CSV y guardarlo en la variable \"df2\"\n",
    "df2 = pd.read_csv('pad_dimensions.csv')\n",
    "\n",
    "# IMPRIMIR LAS PRIMERAS 5 FILAS (default) DEI DATAFRAME - nombre_dataset.head() \n",
    "#  entre parentesis puedes pasar el numero de filas que quieres imprimir\n",
    "\n",
    "print('PRIMERAS FILAS DEL DATAFRAME \"df1\":\\n{}'.format(df1.head()))\n",
    "print('PRIMERAS FILAS DEL DATAFRAME \"df2\":\\n{}'.format(df2.head()))\n"
   ]
  },
  {
   "cell_type": "code",
   "execution_count": 14,
   "metadata": {},
   "outputs": [
    {
     "name": "stdout",
     "output_type": "stream",
     "text": [
      "INFO DATAFRAME \"df1\":\n",
      "<class 'pandas.core.frame.DataFrame'>\n",
      "RangeIndex: 82179 entries, 0 to 82178\n",
      "Data columns (total 11 columns):\n",
      " #   Column                  Non-Null Count  Dtype \n",
      "---  ------                  --------------  ----- \n",
      " 0   Data_Referencia         82179 non-null  object\n",
      " 1   Codi_Districte          82179 non-null  int64 \n",
      " 2   Nom_Districte           82179 non-null  object\n",
      " 3   Codi_Barri              82179 non-null  int64 \n",
      " 4   Nom_Barri               82179 non-null  object\n",
      " 5   AEB                     82179 non-null  int64 \n",
      " 6   Seccio_Censal           82179 non-null  int64 \n",
      " 7   Valor                   82179 non-null  object\n",
      " 8   NACIONALITAT_PAIS       82179 non-null  int64 \n",
      " 9   NACIONALITAT_CONTINENT  82179 non-null  int64 \n",
      " 10  SEXE                    82179 non-null  int64 \n",
      "dtypes: int64(7), object(4)\n",
      "memory usage: 6.9+ MB\n",
      "None\n",
      "INFO DATAFRAME \"df2\":\n",
      "<class 'pandas.core.frame.DataFrame'>\n",
      "RangeIndex: 1497 entries, 0 to 1496\n",
      "Data columns (total 6 columns):\n",
      " #   Column         Non-Null Count  Dtype \n",
      "---  ------         --------------  ----- \n",
      " 0   Codi_Dimensio  1497 non-null   int64 \n",
      " 1   Desc_Dimensio  1497 non-null   object\n",
      " 2   Codi_Valor     1497 non-null   int64 \n",
      " 3   Desc_Valor_CA  1497 non-null   object\n",
      " 4   Desc_Valor_ES  1497 non-null   object\n",
      " 5   Desc_Valor_EN  1497 non-null   object\n",
      "dtypes: int64(2), object(4)\n",
      "memory usage: 70.3+ KB\n",
      "None\n"
     ]
    }
   ],
   "source": [
    "# IMPRIMIR INFO DATAFRAME nombre_dataframe.info()\n",
    "print('INFO DATAFRAME \"df1\":')\n",
    "print(df1.info())\n",
    "print('INFO DATAFRAME \"df2\":')\n",
    "print(df2.info())"
   ]
  },
  {
   "cell_type": "code",
   "execution_count": 15,
   "metadata": {},
   "outputs": [
    {
     "name": "stdout",
     "output_type": "stream",
     "text": [
      "DESCRIPCIÓN DF1:\n",
      "       Codi_Districte    Codi_Barri           AEB  Seccio_Censal  \\\n",
      "count    82179.000000  82179.000000  82179.000000   82179.000000   \n",
      "mean         5.375935     30.833485    111.964541    5435.916219   \n",
      "std          3.029682     22.286268     67.530571    3030.488716   \n",
      "min          1.000000      1.000000      1.000000    1001.000000   \n",
      "25%          2.000000     10.000000     52.000000    2160.000000   \n",
      "50%          5.000000     27.000000    111.000000    5082.000000   \n",
      "75%          8.000000     50.000000    170.000000    8067.000000   \n",
      "max         10.000000     73.000000    233.000000   10237.000000   \n",
      "\n",
      "       NACIONALITAT_PAIS  NACIONALITAT_CONTINENT          SEXE  \n",
      "count       82179.000000            82179.000000  82179.000000  \n",
      "mean          116.443130                5.773190      1.494676  \n",
      "std            86.374591               53.538903      0.499975  \n",
      "min             1.000000                1.000000      1.000000  \n",
      "25%            52.000000                2.000000      1.000000  \n",
      "50%           108.000000                3.000000      1.000000  \n",
      "75%           174.000000                4.000000      2.000000  \n",
      "max           999.000000              999.000000      2.000000  \n",
      "DESCRIPCIÓN DF2:\n",
      "       Codi_Dimensio   Codi_Valor\n",
      "count    1497.000000  1497.000000\n",
      "mean       27.536406    85.391450\n",
      "std        10.923050    95.507477\n",
      "min         1.000000     0.000000\n",
      "25%        28.000000    18.000000\n",
      "50%        31.000000    65.000000\n",
      "75%        36.000000   132.000000\n",
      "max        38.000000   999.000000\n"
     ]
    }
   ],
   "source": [
    "# imprimir una descripción del dataframe nombre_dataframe.describe()\n",
    "print('DESCRIPCIÓN DF1:')\n",
    "print(df1.describe())\n",
    "print('DESCRIPCIÓN DF2:')\n",
    "print(df2.describe())\n"
   ]
  },
  {
   "cell_type": "code",
   "execution_count": 21,
   "metadata": {},
   "outputs": [
    {
     "name": "stdout",
     "output_type": "stream",
     "text": [
      "         Desc_Dimensio  Codi_Valor Desc_Valor_ES\n",
      "0    NACIONALITAT_PAIS           1    Afganistán\n",
      "1    NACIONALITAT_PAIS           2   Islas Aland\n",
      "2    NACIONALITAT_PAIS           3       Albania\n",
      "3    NACIONALITAT_PAIS           4      Alemania\n",
      "4    NACIONALITAT_PAIS           5       Argelia\n",
      "..                 ...         ...           ...\n",
      "233  NACIONALITAT_PAIS         234         China\n",
      "234  NACIONALITAT_PAIS         235        Chipre\n",
      "235  NACIONALITAT_PAIS         236        Zambia\n",
      "236  NACIONALITAT_PAIS         237      Zimbabwe\n",
      "237  NACIONALITAT_PAIS         999     No consta\n",
      "\n",
      "[238 rows x 3 columns]\n"
     ]
    }
   ],
   "source": [
    "# Filtrar filas donde el valor en la columna 'Desc_Dimensio' sea 'NACIONALITAT_PAIS' o 'SEXO'\n",
    "df2_filtrado = df2[(df2['Desc_Dimensio'] == 'NACIONALITAT_PAIS') | (df2['Desc_Dimensio'] == 'SEXO')][['Desc_Dimensio', 'Codi_Valor', 'Desc_Valor_ES']]\n",
    "\n",
    "# Resetar el índice del DataFrame resultante\n",
    "df2_filtrado = df2_filtrado.reset_index(drop=True)\n",
    "\n",
    "print(df2_filtrado)"
   ]
  },
  {
   "cell_type": "code",
   "execution_count": 43,
   "metadata": {},
   "outputs": [
    {
     "name": "stdout",
     "output_type": "stream",
     "text": [
      "      Nom_Districte            Nom_Barri Valor  NACIONALITAT_PAIS  SEXE\n",
      "0      Ciutat Vella             el Raval    ..                 15     1\n",
      "1      Ciutat Vella             el Raval    ..                 15     2\n",
      "2      Ciutat Vella             el Raval    ..                 22     2\n",
      "3      Ciutat Vella             el Raval   315                 58     1\n",
      "4      Ciutat Vella             el Raval   357                 58     2\n",
      "...             ...                  ...   ...                ...   ...\n",
      "82174    Sant Martí  la Verneda i la Pau    ..                151     2\n",
      "82175    Sant Martí  la Verneda i la Pau     7                161     1\n",
      "82176    Sant Martí  la Verneda i la Pau     5                161     2\n",
      "82177    Sant Martí  la Verneda i la Pau    ..                113     1\n",
      "82178    Sant Martí  la Verneda i la Pau    ..                113     2\n",
      "\n",
      "[82179 rows x 5 columns]\n"
     ]
    }
   ],
   "source": [
    "# FILTRAR DF1\n",
    "columnas_seleccionadas = [\"Nom_Districte\", \"Nom_Barri\", \"Valor\", \"NACIONALITAT_PAIS\", \"SEXE\"]\n",
    "df1_filtrado = df1[columnas_seleccionadas]\n",
    "print(df1_filtrado)"
   ]
  }
 ],
 "metadata": {
  "kernelspec": {
   "display_name": "Python 3 (ipykernel)",
   "language": "python",
   "name": "python3"
  },
  "language_info": {
   "codemirror_mode": {
    "name": "ipython",
    "version": 3
   },
   "file_extension": ".py",
   "mimetype": "text/x-python",
   "name": "python",
   "nbconvert_exporter": "python",
   "pygments_lexer": "ipython3",
   "version": "3.11.5"
  }
 },
 "nbformat": 4,
 "nbformat_minor": 2
}
